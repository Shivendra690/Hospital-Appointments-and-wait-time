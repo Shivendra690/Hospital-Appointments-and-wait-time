{
 "cells": [
  {
   "cell_type": "markdown",
   "metadata": {},
   "source": [
    "# Wait Time prediction system"
   ]
  },
  {
   "cell_type": "markdown",
   "metadata": {},
   "source": [
    "## Patients data(Artificially created for demonstration)"
   ]
  },
  {
   "cell_type": "code",
   "execution_count": 1,
   "metadata": {},
   "outputs": [],
   "source": [
    "import pandas as pd \n",
    "from matplotlib import pyplot as plt\n",
    "import seaborn as sns"
   ]
  },
  {
   "cell_type": "code",
   "execution_count": 2,
   "metadata": {},
   "outputs": [],
   "source": [
    "#df = pd.read_csv(\"../../data/cmtw.csv\")\n",
    "df = pd.read_csv(\"../../data/Book2.csv\")"
   ]
  },
  {
   "cell_type": "code",
   "execution_count": 3,
   "metadata": {},
   "outputs": [
    {
     "data": {
      "text/html": [
       "<div>\n",
       "<style scoped>\n",
       "    .dataframe tbody tr th:only-of-type {\n",
       "        vertical-align: middle;\n",
       "    }\n",
       "\n",
       "    .dataframe tbody tr th {\n",
       "        vertical-align: top;\n",
       "    }\n",
       "\n",
       "    .dataframe thead th {\n",
       "        text-align: right;\n",
       "    }\n",
       "</style>\n",
       "<table border=\"1\" class=\"dataframe\">\n",
       "  <thead>\n",
       "    <tr style=\"text-align: right;\">\n",
       "      <th></th>\n",
       "      <th>Name</th>\n",
       "      <th>Age</th>\n",
       "      <th>Mobile_Number</th>\n",
       "      <th>Disease_related_to_ear</th>\n",
       "      <th>Disease_related_to_eye</th>\n",
       "      <th>Disease_related_to_teeth</th>\n",
       "      <th>Patient_doesn't_appeared</th>\n",
       "      <th>Time_taken</th>\n",
       "    </tr>\n",
       "  </thead>\n",
       "  <tbody>\n",
       "    <tr>\n",
       "      <th>0</th>\n",
       "      <td>bohemond</td>\n",
       "      <td>39</td>\n",
       "      <td>7751654875</td>\n",
       "      <td>0</td>\n",
       "      <td>1</td>\n",
       "      <td>0</td>\n",
       "      <td>0</td>\n",
       "      <td>3.25</td>\n",
       "    </tr>\n",
       "    <tr>\n",
       "      <th>1</th>\n",
       "      <td>bohen</td>\n",
       "      <td>50</td>\n",
       "      <td>8331177512</td>\n",
       "      <td>0</td>\n",
       "      <td>1</td>\n",
       "      <td>0</td>\n",
       "      <td>0</td>\n",
       "      <td>3.26</td>\n",
       "    </tr>\n",
       "    <tr>\n",
       "      <th>2</th>\n",
       "      <td>boheng</td>\n",
       "      <td>38</td>\n",
       "      <td>1564615646</td>\n",
       "      <td>0</td>\n",
       "      <td>1</td>\n",
       "      <td>0</td>\n",
       "      <td>0</td>\n",
       "      <td>4.00</td>\n",
       "    </tr>\n",
       "    <tr>\n",
       "      <th>3</th>\n",
       "      <td>bohl</td>\n",
       "      <td>53</td>\n",
       "      <td>1564234721</td>\n",
       "      <td>0</td>\n",
       "      <td>1</td>\n",
       "      <td>0</td>\n",
       "      <td>0</td>\n",
       "      <td>3.15</td>\n",
       "    </tr>\n",
       "    <tr>\n",
       "      <th>4</th>\n",
       "      <td>bohland</td>\n",
       "      <td>28</td>\n",
       "      <td>33840938409</td>\n",
       "      <td>0</td>\n",
       "      <td>1</td>\n",
       "      <td>0</td>\n",
       "      <td>0</td>\n",
       "      <td>4.32</td>\n",
       "    </tr>\n",
       "  </tbody>\n",
       "</table>\n",
       "</div>"
      ],
      "text/plain": [
       "       Name  Age  Mobile_Number  Disease_related_to_ear  \\\n",
       "0  bohemond   39     7751654875                       0   \n",
       "1     bohen   50     8331177512                       0   \n",
       "2    boheng   38     1564615646                       0   \n",
       "3      bohl   53     1564234721                       0   \n",
       "4   bohland   28    33840938409                       0   \n",
       "\n",
       "   Disease_related_to_eye  Disease_related_to_teeth  Patient_doesn't_appeared  \\\n",
       "0                       1                         0                         0   \n",
       "1                       1                         0                         0   \n",
       "2                       1                         0                         0   \n",
       "3                       1                         0                         0   \n",
       "4                       1                         0                         0   \n",
       "\n",
       "   Time_taken  \n",
       "0        3.25  \n",
       "1        3.26  \n",
       "2        4.00  \n",
       "3        3.15  \n",
       "4        4.32  "
      ]
     },
     "execution_count": 3,
     "metadata": {},
     "output_type": "execute_result"
    }
   ],
   "source": [
    "df.head()"
   ]
  },
  {
   "cell_type": "code",
   "execution_count": 28,
   "metadata": {},
   "outputs": [
    {
     "data": {
      "text/plain": [
       "(179, 8)"
      ]
     },
     "execution_count": 28,
     "metadata": {},
     "output_type": "execute_result"
    }
   ],
   "source": [
    "df.shape"
   ]
  },
  {
   "cell_type": "code",
   "execution_count": 4,
   "metadata": {},
   "outputs": [
    {
     "name": "stdout",
     "output_type": "stream",
     "text": [
      "<class 'pandas.core.frame.DataFrame'>\n",
      "RangeIndex: 179 entries, 0 to 178\n",
      "Data columns (total 8 columns):\n",
      "Name                        179 non-null object\n",
      "Age                         179 non-null int64\n",
      "Mobile_Number               179 non-null int64\n",
      "Disease_related_to_ear      179 non-null int64\n",
      "Disease_related_to_eye      179 non-null int64\n",
      "Disease_related_to_teeth    179 non-null int64\n",
      "Patient_doesn't_appeared    179 non-null int64\n",
      "Time_taken                  179 non-null float64\n",
      "dtypes: float64(1), int64(6), object(1)\n",
      "memory usage: 11.3+ KB\n"
     ]
    }
   ],
   "source": [
    "df.info()"
   ]
  },
  {
   "cell_type": "code",
   "execution_count": 33,
   "metadata": {},
   "outputs": [],
   "source": [
    "#sns.countplot(x='Age', hue=\"Patient_doesn't_appeared\", data=df);"
   ]
  },
  {
   "cell_type": "code",
   "execution_count": 5,
   "metadata": {},
   "outputs": [
    {
     "data": {
      "text/plain": [
       "array([[<matplotlib.axes._subplots.AxesSubplot object at 0x0000018F9EDA1470>,\n",
       "        <matplotlib.axes._subplots.AxesSubplot object at 0x0000018FA0DE86D8>,\n",
       "        <matplotlib.axes._subplots.AxesSubplot object at 0x0000018FA0E11D30>],\n",
       "       [<matplotlib.axes._subplots.AxesSubplot object at 0x0000018FA0E44400>,\n",
       "        <matplotlib.axes._subplots.AxesSubplot object at 0x0000018FA0E6DA90>,\n",
       "        <matplotlib.axes._subplots.AxesSubplot object at 0x0000018FA0E6DAC8>],\n",
       "       [<matplotlib.axes._subplots.AxesSubplot object at 0x0000018FA0EC47F0>,\n",
       "        <matplotlib.axes._subplots.AxesSubplot object at 0x0000018FA0EEBE80>,\n",
       "        <matplotlib.axes._subplots.AxesSubplot object at 0x0000018FA0F1E550>]],\n",
       "      dtype=object)"
      ]
     },
     "execution_count": 5,
     "metadata": {},
     "output_type": "execute_result"
    },
    {
     "data": {
      "image/png": "[encoded data removed]",
      "text/plain": [
       "<Figure size 1152x864 with 9 Axes>"
      ]
     },
     "metadata": {},
     "output_type": "display_data"
    }
   ],
   "source": [
    "plt.rcParams['figure.figsize'] = (16,12)\n",
    "df.drop(['Name'], axis = 1).hist()"
   ]
  },
  {
   "cell_type": "code",
   "execution_count": 6,
   "metadata": {},
   "outputs": [
    {
     "data": {
      "text/plain": [
       "<matplotlib.axes._subplots.AxesSubplot at 0x18fa0f6ab38>"
      ]
     },
     "execution_count": 6,
     "metadata": {},
     "output_type": "execute_result"
    },
    {
     "data": {
      "image/png": "[encoded data removed]",
      "text/plain": [
       "<Figure size 576x432 with 1 Axes>"
      ]
     },
     "metadata": {},
     "output_type": "display_data"
    }
   ],
   "source": [
    "plt.rcParams['figure.figsize'] = (8,6)\n",
    "sns.countplot(x = df[\"Patient_doesn't_appeared\"], data = df)"
   ]
  },
  {
   "cell_type": "code",
   "execution_count": 7,
   "metadata": {},
   "outputs": [
    {
     "data": {
      "text/plain": [
       "count    179.000000\n",
       "mean       4.555330\n",
       "std        3.808568\n",
       "min        2.210000\n",
       "25%        3.400000\n",
       "50%        4.100000\n",
       "75%        4.700000\n",
       "max       39.000000\n",
       "Name: Time_taken, dtype: float64"
      ]
     },
     "execution_count": 7,
     "metadata": {},
     "output_type": "execute_result"
    }
   ],
   "source": [
    "#df[\"Patient_doesn't_appeared\"].describe()\n",
    "df[\"Time_taken\"].describe()"
   ]
  },
  {
   "cell_type": "code",
   "execution_count": 8,
   "metadata": {},
   "outputs": [
    {
     "data": {
      "image/png": "[encoded data removed]",
      "text/plain": [
       "<Figure size 576x432 with 1 Axes>"
      ]
     },
     "metadata": {},
     "output_type": "display_data"
    }
   ],
   "source": [
    "sns.countplot(x='Disease_related_to_ear', hue=\"Patient_doesn't_appeared\", data=df);"
   ]
  },
  {
   "cell_type": "code",
   "execution_count": 9,
   "metadata": {},
   "outputs": [
    {
     "data": {
      "text/plain": [
       "0    151\n",
       "1     28\n",
       "Name: Patient_doesn't_appeared, dtype: int64"
      ]
     },
     "execution_count": 9,
     "metadata": {},
     "output_type": "execute_result"
    }
   ],
   "source": [
    "df[\"Patient_doesn't_appeared\"].value_counts()"
   ]
  },
  {
   "cell_type": "code",
   "execution_count": 72,
   "metadata": {},
   "outputs": [],
   "source": [
    "#0.1564 = 15.64% doesn't appear in opd"
   ]
  },
  {
   "cell_type": "markdown",
   "metadata": {},
   "source": [
    "## Model creation using decision trees"
   ]
  },
  {
   "cell_type": "code",
   "execution_count": 10,
   "metadata": {},
   "outputs": [],
   "source": [
    "\n",
    "#df[\"Patient_doesn't_appeared\"] = df[\"Patient_doesn't_appeared\"].astype('int')\n",
    "names = df['Name']\n",
    "mobile = df['Mobile_Number']\n",
    "y = df[\"Patient_doesn't_appeared\"]\n",
    "df.drop(['Name','Mobile_Number',\"Patient_doesn't_appeared\"], axis=1, inplace=True)"
   ]
  },
  {
   "cell_type": "code",
   "execution_count": 11,
   "metadata": {},
   "outputs": [],
   "source": [
    "#df.head()"
   ]
  },
  {
   "cell_type": "code",
   "execution_count": 12,
   "metadata": {},
   "outputs": [
    {
     "data": {
      "text/plain": [
       "KNeighborsClassifier(algorithm='auto', leaf_size=30, metric='minkowski',\n",
       "           metric_params=None, n_jobs=1, n_neighbors=10, p=2,\n",
       "           weights='uniform')"
      ]
     },
     "execution_count": 12,
     "metadata": {},
     "output_type": "execute_result"
    }
   ],
   "source": [
    "from sklearn.model_selection import train_test_split, StratifiedKFold\n",
    "from sklearn.neighbors import KNeighborsClassifier\n",
    "from sklearn.preprocessing import StandardScaler\n",
    "from sklearn.tree import DecisionTreeClassifier\n",
    "\n",
    "X_train, X_holdout, y_train, y_holdout = train_test_split(df.values, y, test_size=0.3,\n",
    "random_state=17)\n",
    "\n",
    "tree = DecisionTreeClassifier(max_depth=5, random_state=17)\n",
    "knn = KNeighborsClassifier(n_neighbors=10)\n",
    "\n",
    "tree.fit(X_train, y_train)\n",
    "\n",
    "# for kNN, we need to scale features\n",
    "scaler = StandardScaler()\n",
    "X_train_scaled = scaler.fit_transform(X_train)\n",
    "X_holdout_scaled = scaler.transform(X_holdout)\n",
    "knn.fit(X_train_scaled, y_train)"
   ]
  },
  {
   "cell_type": "markdown",
   "metadata": {},
   "source": [
    "### Machine Learning model's prediction"
   ]
  },
  {
   "cell_type": "code",
   "execution_count": 13,
   "metadata": {},
   "outputs": [
    {
     "name": "stdout",
     "output_type": "stream",
     "text": [
      "[0 0 0 1 0 0 0 0 1 0 1 0 0 0 0 0 0 0 0 0 0 0 0 1 0 0 0 0 0 0 0 1 0 0 0 0 0\n",
      " 0 0 0 0 0 0 0 0 0 0 0 1 0 0 0 0 1]\n",
      "Counter({0: 47, 1: 7})\n"
     ]
    }
   ],
   "source": [
    "from sklearn.metrics import accuracy_score\n",
    "from collections import Counter\n",
    "\n",
    "tree_pred = tree.predict(X_holdout)\n",
    "print(tree_pred)\n",
    "print(Counter(tree_pred))\n",
    "#accuracy_score(y_holdout, tree_pred) \n"
   ]
  },
  {
   "cell_type": "markdown",
   "metadata": {},
   "source": [
    "### Prediction for patients who will be absent is 7 and time is calculated based on the formed algorithm below"
   ]
  },
  {
   "cell_type": "code",
   "execution_count": 16,
   "metadata": {},
   "outputs": [],
   "source": [
    "# Average time taken by any of the patient\n",
    "#df[\"Time_taken\"].describe() mean = 4.555330\n",
    "\n",
    "# if seven people didn't appeared then updated time will be \n",
    "\n",
    "# time = time - 7*4.55533    ---- =====>>         (time = time - 31.88731)"
   ]
  },
  {
   "cell_type": "markdown",
   "metadata": {},
   "source": [
    "#### we got the result that 7 patients out of 180 have chances to not appear in opd after booking , \n",
    "#### So with the help of this system we can predict the time of particular patient and we can inform them \n",
    "#### by messaging them "
   ]
  },
  {
   "cell_type": "markdown",
   "metadata": {},
   "source": [
    "## ALGORITHMS THAT GOVERNS WORKING OF THE SYSTEM"
   ]
  },
  {
   "cell_type": "markdown",
   "metadata": {},
   "source": [
    "#### let the machine machine learning model gives prediction(No. of patents that will not appear on the date of appointment) equal to n1 and the average time taken be t-avg\n",
    "#### le\n"
   ]
  },
  {
   "cell_type": "code",
   "execution_count": null,
   "metadata": {},
   "outputs": [],
   "source": []
  }
 ],
 "metadata": {
  "kernelspec": {
   "display_name": "Python 3",
   "language": "python",
   "name": "python3"
  },
  "language_info": {
   "codemirror_mode": {
    "name": "ipython",
    "version": 3
   },
   "file_extension": ".py",
   "mimetype": "text/x-python",
   "name": "python",
   "nbconvert_exporter": "python",
   "pygments_lexer": "ipython3",
   "version": "3.6.4"
  }
 },
 "nbformat": 4,
 "nbformat_minor": 2
}
